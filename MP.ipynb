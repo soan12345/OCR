{
  "nbformat": 4,
  "nbformat_minor": 0,
  "metadata": {
    "colab": {
      "provenance": [],
      "authorship_tag": "ABX9TyNnJQrAj9gHUr+lqak63Hmr",
      "include_colab_link": true
    },
    "kernelspec": {
      "name": "python3",
      "display_name": "Python 3"
    },
    "language_info": {
      "name": "python"
    }
  },
  "cells": [
    {
      "cell_type": "markdown",
      "metadata": {
        "id": "view-in-github",
        "colab_type": "text"
      },
      "source": [
        "<a href=\"https://colab.research.google.com/github/soan12345/OCR/blob/main/MP.ipynb\" target=\"_parent\"><img src=\"https://colab.research.google.com/assets/colab-badge.svg\" alt=\"Open In Colab\"/></a>"
      ]
    },
    {
      "cell_type": "code",
      "source": [
        "!pip install pytesseract pdf2image opencv-python pillow"
      ],
      "metadata": {
        "colab": {
          "base_uri": "https://localhost:8080/"
        },
        "id": "AkqwRZ3F5IUm",
        "outputId": "1a4d7fb1-e01f-4b22-c415-bbd9b31e6c06"
      },
      "execution_count": 1,
      "outputs": [
        {
          "output_type": "stream",
          "name": "stdout",
          "text": [
            "Collecting pytesseract\n",
            "  Downloading pytesseract-0.3.13-py3-none-any.whl.metadata (11 kB)\n",
            "Collecting pdf2image\n",
            "  Downloading pdf2image-1.17.0-py3-none-any.whl.metadata (6.2 kB)\n",
            "Requirement already satisfied: opencv-python in /usr/local/lib/python3.11/dist-packages (4.11.0.86)\n",
            "Requirement already satisfied: pillow in /usr/local/lib/python3.11/dist-packages (11.1.0)\n",
            "Requirement already satisfied: packaging>=21.3 in /usr/local/lib/python3.11/dist-packages (from pytesseract) (24.2)\n",
            "Requirement already satisfied: numpy>=1.21.2 in /usr/local/lib/python3.11/dist-packages (from opencv-python) (1.26.4)\n",
            "Downloading pytesseract-0.3.13-py3-none-any.whl (14 kB)\n",
            "Downloading pdf2image-1.17.0-py3-none-any.whl (11 kB)\n",
            "Installing collected packages: pytesseract, pdf2image\n",
            "Successfully installed pdf2image-1.17.0 pytesseract-0.3.13\n"
          ]
        }
      ]
    },
    {
      "cell_type": "code",
      "source": [
        "!apt-get install -y poppler-utils tesseract-ocr"
      ],
      "metadata": {
        "colab": {
          "base_uri": "https://localhost:8080/"
        },
        "id": "NrGaPK9q5qiI",
        "outputId": "374d976b-a4cd-4cb5-d5e9-255076771514"
      },
      "execution_count": 3,
      "outputs": [
        {
          "output_type": "stream",
          "name": "stdout",
          "text": [
            "Reading package lists... Done\n",
            "Building dependency tree... Done\n",
            "Reading state information... Done\n",
            "The following additional packages will be installed:\n",
            "  tesseract-ocr-eng tesseract-ocr-osd\n",
            "The following NEW packages will be installed:\n",
            "  poppler-utils tesseract-ocr tesseract-ocr-eng tesseract-ocr-osd\n",
            "0 upgraded, 4 newly installed, 0 to remove and 21 not upgraded.\n",
            "Need to get 5,002 kB of archives.\n",
            "After this operation, 16.3 MB of additional disk space will be used.\n",
            "Get:1 http://archive.ubuntu.com/ubuntu jammy-updates/main amd64 poppler-utils amd64 22.02.0-2ubuntu0.6 [186 kB]\n",
            "Get:2 http://archive.ubuntu.com/ubuntu jammy/universe amd64 tesseract-ocr-eng all 1:4.00~git30-7274cfa-1.1 [1,591 kB]\n",
            "Get:3 http://archive.ubuntu.com/ubuntu jammy/universe amd64 tesseract-ocr-osd all 1:4.00~git30-7274cfa-1.1 [2,990 kB]\n",
            "Get:4 http://archive.ubuntu.com/ubuntu jammy/universe amd64 tesseract-ocr amd64 4.1.1-2.1build1 [236 kB]\n",
            "Fetched 5,002 kB in 1s (4,069 kB/s)\n",
            "Selecting previously unselected package poppler-utils.\n",
            "(Reading database ... 124926 files and directories currently installed.)\n",
            "Preparing to unpack .../poppler-utils_22.02.0-2ubuntu0.6_amd64.deb ...\n",
            "Unpacking poppler-utils (22.02.0-2ubuntu0.6) ...\n",
            "Selecting previously unselected package tesseract-ocr-eng.\n",
            "Preparing to unpack .../tesseract-ocr-eng_1%3a4.00~git30-7274cfa-1.1_all.deb ...\n",
            "Unpacking tesseract-ocr-eng (1:4.00~git30-7274cfa-1.1) ...\n",
            "Selecting previously unselected package tesseract-ocr-osd.\n",
            "Preparing to unpack .../tesseract-ocr-osd_1%3a4.00~git30-7274cfa-1.1_all.deb ...\n",
            "Unpacking tesseract-ocr-osd (1:4.00~git30-7274cfa-1.1) ...\n",
            "Selecting previously unselected package tesseract-ocr.\n",
            "Preparing to unpack .../tesseract-ocr_4.1.1-2.1build1_amd64.deb ...\n",
            "Unpacking tesseract-ocr (4.1.1-2.1build1) ...\n",
            "Setting up tesseract-ocr-eng (1:4.00~git30-7274cfa-1.1) ...\n",
            "Setting up tesseract-ocr-osd (1:4.00~git30-7274cfa-1.1) ...\n",
            "Setting up poppler-utils (22.02.0-2ubuntu0.6) ...\n",
            "Setting up tesseract-ocr (4.1.1-2.1build1) ...\n",
            "Processing triggers for man-db (2.10.2-1) ...\n"
          ]
        }
      ]
    },
    {
      "cell_type": "code",
      "execution_count": 46,
      "metadata": {
        "colab": {
          "base_uri": "https://localhost:8080/"
        },
        "id": "mKSXFmIZ3t1O",
        "outputId": "e4fcf318-d71c-49bc-b944-1477c3a1bc0c"
      },
      "outputs": [
        {
          "output_type": "stream",
          "name": "stderr",
          "text": [
            "WARNING:__main__:Failed to extract: Bill_Due_Date, Opening_Reading_KWH, Closing_Reading_KWH, Last_Amount_Paid, Power_Factor\n"
          ]
        },
        {
          "output_type": "stream",
          "name": "stdout",
          "text": [
            "\n",
            "Extracted Fields:\n",
            "--------------------------------------------------\n",
            "Consumer_ID: VI31\n",
            "Meter_No_KWH: SECUREMPM10732\n",
            "Old_Account_No: VI31-12-7125427470\n",
            "Phase: THREE\n",
            "Sanctioned_Load: 20.0 KW\n",
            "Meter_Status: NORMAL\n",
            "Tariff: LV2 [LV2.2]\n",
            "mdi: 4.32\n",
            "Board_Name: Madhya Pradesh Madhya Kshetra Vidyut Vitran Company Ltd.\n",
            "Division: O&M Vidisha\n",
            "Name_On_Bill: SHRI SANJEEV JAIN C/O YES BANK\n",
            "Address: S/O SHRI SURESH JAIN, ARIHANT BIHAR COLONYPH- Total Bill Amount On Due Date (In Rs.) 12647.00\n",
            "Bill_No: JAN25N001915722\n",
            "Bill_Issue_Date: 10-Jan-2025\n",
            "Current_Reading_Date_KWH: 01-Jan-2025\n",
            "Meter_Consumption_Unit_KWH: 1\n",
            "Fixed_Charges: 5328.00\n",
            "Energy_Charges: 7541.70\n",
            "Current_Bill_Amount: 13059.97\n",
            "Amount_Before_Due_Date: 12647.00\n",
            "Amount_After_Due_Date: 12805.00\n",
            "Security_Deposit_Paid: 33253.00\n",
            "--------------------------------------------------\n"
          ]
        }
      ],
      "source": [
        "import pytesseract\n",
        "from pdf2image import convert_from_path\n",
        "import re\n",
        "from typing import Dict, Any\n",
        "import logging\n",
        "\n",
        "class BillExtractor:\n",
        "    def __init__(self):\n",
        "        self.logger = logging.getLogger(__name__)\n",
        "        logging.basicConfig(level=logging.INFO)\n",
        "\n",
        "\n",
        "        self.field_patterns = {\n",
        "            'Consumer_ID': r'Service\\s*Number[:\\s]*([A-Z0-9]+)',\n",
        "            'Meter_No_KWH': r'Meter\\s*Serial\\s*No[:\\s]*([A-Z0-9]+)',\n",
        "            'Old_Account_No': r'Old\\s*Service\\s*Number[:\\s]*([A-Z0-9-]+)',\n",
        "            #'Service Number':r'Service Number\\s*([A-Z0-9-]+)',\n",
        "            'Phase': r'Phase\\s*Given[:\\s]*([A-Z]+)',\n",
        "            'Sanctioned_Load': r'Load\\s*Sanctioned[:\\s]*([0-9.]+\\s*KW)',\n",
        "            'Meter_Status': r'Reading\\s*Type[:\\s]*([A-Z_]+)',\n",
        "            'Tariff': r'Tariff\\s*Class[:\\s]*([^\\n]+)',\n",
        "            \"mdi\": r\"Maximum Demand\\s*([\\d.]+)\",\n",
        "            'Board_Name': r'(Madhya\\s*Pradesh\\s*Madhya\\s*Kshetra\\s*Vidyut\\s*Vitran\\s*Company\\s*Ltd\\.)',\n",
        "            'Division': r'Division\\s*Name[:\\s]*([^\\n]+?)(?=\\s*(?:Tariff Class|$))',\n",
        "            'Name_On_Bill': r'Mr\\.\\s*/\\s*Ms\\.\\s*([^\\n]+?)(?=\\s*Bill\\s*Demand|$)',\n",
        "             \"Address\": r\"Address[:\\s]*([^\\n]+)\",\n",
        "            'Bill_No': r'Bill\\s*Number[:\\s]*([A-Z0-9]+)',\n",
        "            'Bill_Issue_Date': r'Bill\\s*Date[:\\s]*(\\d{2}-[A-Za-z]+-\\d{4})',\n",
        "            'Bill_Due_Date': r'Bill\\s*Payment\\s*last\\s*Date[:\\s]*(\\d{2}-[A-Za-z]+-\\d{4})',\n",
        "            'Opening_Reading_KWH': r'Previous\\s*Reading[:\\s]*(\\d+[\\.,]\\d+)',\n",
        "            'Closing_Reading_KWH': r'Current\\s*Reading[:\\s]*(\\d+[\\.,]\\d+)',\n",
        "            'Current_Reading_Date_KWH': r'Current\\s*Read\\s*Date[:\\s]*(\\d{2}-[A-Za-z]+-\\d{4})',\n",
        "            'Meter_Consumption_Unit_KWH': r'Units\\s*consumed[:\\s]*(\\d+)',\n",
        "            'Fixed_Charges': r'Fixed\\s*Charge[:\\s]*(\\d+\\.\\d+)',\n",
        "            'Energy_Charges': r'Energy\\s*Charges[:\\s]*(\\d+\\.\\d+)',\n",
        "            'Current_Bill_Amount': r'Current\\s*Month\\s*Bill[:\\s]*(\\d+\\.\\d+)',\n",
        "            'Amount_Before_Due_Date': r'Total\\s*Amount\\s*Payable\\s*On\\s*Due\\s*Date[:\\s]*(\\d+\\.\\d+)',\n",
        "            'Amount_After_Due_Date': r'Total\\s*Amount\\s*Payable\\s*After\\s*Due\\s*Date[:\\s]*(\\d+\\.\\d+)',\n",
        "            'Last_Amount_Paid': r'Amount\\s*Paid[:\\s]*(\\d+)',\n",
        "            'Power_Factor': r'P\\.F\\.[:\\s]*(\\d+\\.\\d+)',\n",
        "            'Security_Deposit_Paid': r'Security\\s*Amount\\s*Deposited[:\\s]*(\\d+\\.\\d+)',\n",
        "        }\n",
        "\n",
        "    def extract_from_pdf(self, pdf_path: str, debug: bool = True) -> Dict[str, Any]:\n",
        "        \"\"\"\n",
        "        Extract information from PDF bill using OCR with debug mode\n",
        "        \"\"\"\n",
        "        try:\n",
        "            # Convert PDF to images\n",
        "            images = convert_from_path(pdf_path)\n",
        "\n",
        "            # Initialize results dictionary\n",
        "            results = {field: None for field in self.field_patterns.keys()}\n",
        "\n",
        "            # Process each page\n",
        "            for page_num, image in enumerate(images, 1):\n",
        "                # Performing OCR\n",
        "                text = pytesseract.image_to_string(image)\n",
        "\n",
        "                if debug:\n",
        "                    # Save extracted text for debugging\n",
        "                    with open(f'extracted_text_page_{page_num}.txt', 'w', encoding='utf-8') as f:\n",
        "                        f.write(text)\n",
        "                    self.logger.info(f\"Saved extracted text from page {page_num}\")\n",
        "\n",
        "                # Extract fields using patterns\n",
        "                for field, pattern in self.field_patterns.items():\n",
        "                    if results[field] is None:\n",
        "                        match = re.search(pattern, text)\n",
        "                        if match:\n",
        "                            results[field] = match.group(1).strip()\n",
        "                            if debug:\n",
        "                                self.logger.info(f\"Found {field}: {results[field]}\")\n",
        "\n",
        "\n",
        "            results = {k: v.replace('|', '').strip() if v else v for k, v in results.items()}\n",
        "\n",
        "            # Log missing fields in debug mode\n",
        "            if debug:\n",
        "                missing_fields = [field for field, value in results.items() if value is None]\n",
        "                if missing_fields:\n",
        "                    self.logger.warning(f\"Failed to extract: {', '.join(missing_fields)}\")\n",
        "\n",
        "            return results\n",
        "\n",
        "        except Exception as e:\n",
        "            self.logger.error(f\"Error processing PDF: {str(e)}\")\n",
        "            return {\"error\": str(e)}\n",
        "\n",
        "def main():\n",
        "\n",
        "    extractor = BillExtractor()\n",
        "\n",
        "\n",
        "    results = extractor.extract_from_pdf(\"537_N2945012931_2025-01-10.pdf\", debug=True)\n",
        "\n",
        "    # Print results\n",
        "    print(\"\\nExtracted Fields:\")\n",
        "    print(\"-\" * 50)\n",
        "    for field, value in results.items():\n",
        "        if value is not None:\n",
        "            print(f\"{field}: {value}\")\n",
        "    print(\"-\" * 50)\n",
        "\n",
        "if __name__ == \"__main__\":\n",
        "    main()"
      ]
    }
  ]
}